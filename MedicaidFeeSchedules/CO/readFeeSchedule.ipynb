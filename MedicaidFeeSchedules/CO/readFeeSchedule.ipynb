{
 "cells": [
  {
   "cell_type": "markdown",
   "metadata": {},
   "source": [
    "# Read Colorado Medicaid Fee Schedules\n",
    "\n",
    "The Colorado Department of Health Care Policy and Financing (HCPF) website for fee schedules is [here](https://www.colorado.gov/pacific/hcpf/provider-rates-fee-schedule).\n",
    "\n",
    "* Fee schedules come in Excel format\n",
    "* Fee schedules are biannual (January and July)\n",
    "* Publicly available fee schedules go back to January 2012\n",
    "* Fee schedule instructions are also available; instructions for January 2015 are linked [here](https://www.colorado.gov/pacific/sites/default/files/Fee%20schedule%20instructions%20January%202015.pdf)\n",
    "\n",
    "However, Colorado's Medicaid fee schedules are a pain in the ass.\n",
    "They are publicly available as Microsoft Excel files but...\n",
    "\n",
    "* File names are not systematic\n",
    "* File formats are not uniform (`.xls` and `.xlsx`)\n",
    "* They do not read directly into R nicely (using either the `readxl` or `xlsx` packages)\n",
    "\n",
    "All these issues makes codifying difficult.\n",
    "As a workaround, the following steps were taken.\n",
    "\n",
    "1. Excel files are saved locally\n",
    "2. Excel files are converted to CSV\n",
    "3. CSV files are version controlled in this repository (since they are not large)\n",
    "4. CSV files are read into R\n",
    "\n",
    "The first 3 steps were done manually.\n",
    "The SHA for the commit of the CSV files is `bfbbd07a2d538ec57e61cddf3616993aa74b78b1` (5/4/2016).\n",
    "Step 4 is below."
   ]
  },
  {
   "cell_type": "code",
   "execution_count": 1,
   "metadata": {
    "collapsed": false
   },
   "outputs": [
    {
     "data": {
      "text/html": [
       "<ol class=list-inline>\n",
       "\t<li>\"Data/Fee_Schedule_Jan2012_File.csv\"</li>\n",
       "\t<li>\"Data/Fee_Schedule_Jan2014_File .csv\"</li>\n",
       "\t<li>\"Data/Fee_Schedule_July2013.csv\"</li>\n",
       "\t<li>\"Data/jan2015feeschedule_1.csv\"</li>\n",
       "\t<li>\"Data/Jan2016feeschedule 0316.csv\"</li>\n",
       "\t<li>\"Data/January 2013 Medicaid Fee Schedule.csv\"</li>\n",
       "\t<li>\"Data/Jul2015feeschedule_Web_2.csv\"</li>\n",
       "\t<li>\"Data/July12014feeschedule_0116.csv\"</li>\n",
       "</ol>\n"
      ],
      "text/latex": [
       "\\begin{enumerate*}\n",
       "\\item \"Data/Fee_Schedule_Jan2012_File.csv\"\n",
       "\\item \"Data/Fee_Schedule_Jan2014_File .csv\"\n",
       "\\item \"Data/Fee_Schedule_July2013.csv\"\n",
       "\\item \"Data/jan2015feeschedule_1.csv\"\n",
       "\\item \"Data/Jan2016feeschedule 0316.csv\"\n",
       "\\item \"Data/January 2013 Medicaid Fee Schedule.csv\"\n",
       "\\item \"Data/Jul2015feeschedule_Web_2.csv\"\n",
       "\\item \"Data/July12014feeschedule_0116.csv\"\n",
       "\\end{enumerate*}\n"
      ],
      "text/markdown": [
       "1. \"Data/Fee_Schedule_Jan2012_File.csv\"\n",
       "2. \"Data/Fee_Schedule_Jan2014_File .csv\"\n",
       "3. \"Data/Fee_Schedule_July2013.csv\"\n",
       "4. \"Data/jan2015feeschedule_1.csv\"\n",
       "5. \"Data/Jan2016feeschedule 0316.csv\"\n",
       "6. \"Data/January 2013 Medicaid Fee Schedule.csv\"\n",
       "7. \"Data/Jul2015feeschedule_Web_2.csv\"\n",
       "8. \"Data/July12014feeschedule_0116.csv\"\n",
       "\n",
       "\n"
      ],
      "text/plain": [
       "[1] \"Data/Fee_Schedule_Jan2012_File.csv\"         \n",
       "[2] \"Data/Fee_Schedule_Jan2014_File .csv\"        \n",
       "[3] \"Data/Fee_Schedule_July2013.csv\"             \n",
       "[4] \"Data/jan2015feeschedule_1.csv\"              \n",
       "[5] \"Data/Jan2016feeschedule 0316.csv\"           \n",
       "[6] \"Data/January 2013 Medicaid Fee Schedule.csv\"\n",
       "[7] \"Data/Jul2015feeschedule_Web_2.csv\"          \n",
       "[8] \"Data/July12014feeschedule_0116.csv\"         "
      ]
     },
     "execution_count": 1,
     "metadata": {},
     "output_type": "execute_result"
    }
   ],
   "source": [
    "files <- paste(\"Data\", list.files(file.path(getwd(), \"Data\")), sep=\"/\")\n",
    "files"
   ]
  },
  {
   "cell_type": "code",
   "execution_count": 2,
   "metadata": {
    "collapsed": false
   },
   "outputs": [],
   "source": [
    "library(data.table)\n",
    "readFS <- function (f) {\n",
    "    require(data.table, quietly=TRUE)\n",
    "    if (grepl(\"jan\", f, ignore.case=TRUE)) {month <- 1}\n",
    "    if (grepl(\"jul\", f, ignore.case=TRUE)) {month <- 7}\n",
    "    for (i in 2012:2016) {if (grepl(sprintf(\"%d\", i), f)) {year <- i}}\n",
    "    colClasses <- c(\"character\", \"character\", \"numeric\", \"character\", \"character\", rep(\"numeric\", 3), \"character\")\n",
    "    D <- data.table(read.csv(f, header=FALSE, colClasses=colClasses, skip=5, na.strings=c(\"\"), strip.white=TRUE))\n",
    "    old <- names(D)\n",
    "    keep <- c(\"procedure_code\",\n",
    "              \"modifier\",\n",
    "              \"base_value\",\n",
    "              \"conversion_factor\",\n",
    "              \"total_allowable\",\n",
    "              \"min_age\",\n",
    "              \"max_age\",\n",
    "              \"postop_days\",\n",
    "              \"prior_auth_needed\")\n",
    "    if (length(old) > length(keep)) {new <- c(keep, old[(length(keep) + 1):length(old)])}\n",
    "    else {new <- keep}\n",
    "    setnames(D, old, new)\n",
    "    D <- D[!is.na(procedure_code)]\n",
    "    D <- D[,\n",
    "           `:=` (conversion_factor = as.numeric(conversion_factor),\n",
    "                 total_allowable = toupper(total_allowable),\n",
    "                 prior_auth_needed = toupper(prior_auth_needed),\n",
    "                 effective_date = as.Date(sprintf(\"%d-%d-01\", year, month)))]\n",
    "    D <- D[, total_allowable := gsub(\"MANNUAL\", \"MANUAL\", total_allowable)]\n",
    "    D <- D[, total_allowable := gsub(\"\\\\bMANUAL\\\\b\", \"MANUALLY\", total_allowable)]\n",
    "    D <- D[, total_allowable := gsub(\"IMMUNZATION\", \"IMMUNIZATION\", total_allowable)]\n",
    "    D[, c(keep, \"effective_date\"), with=FALSE]\n",
    "}"
   ]
  },
  {
   "cell_type": "markdown",
   "metadata": {},
   "source": [
    "Cycle through all the CSV files."
   ]
  },
  {
   "cell_type": "code",
   "execution_count": 3,
   "metadata": {
    "collapsed": false
   },
   "outputs": [],
   "source": [
    "D <- list()\n",
    "for (i in 1:length(files)) {\n",
    "    D[[i]] <- readFS(file.path(getwd(), files[i]))\n",
    "}\n",
    "fs <- rbindlist(D)"
   ]
  },
  {
   "cell_type": "code",
   "execution_count": 4,
   "metadata": {
    "collapsed": false
   },
   "outputs": [
    {
     "data": {
      "text/html": [
       "<table>\n",
       "<thead><tr><th></th><th scope=col>effective_date</th><th scope=col>N</th></tr></thead>\n",
       "<tbody>\n",
       "\t<tr><th scope=row>1</th><td>2012-01-01</td><td>17215</td></tr>\n",
       "\t<tr><th scope=row>2</th><td>2013-01-01</td><td>17390</td></tr>\n",
       "\t<tr><th scope=row>3</th><td>2013-07-01</td><td>17299</td></tr>\n",
       "\t<tr><th scope=row>4</th><td>2014-01-01</td><td>17581</td></tr>\n",
       "\t<tr><th scope=row>5</th><td>2014-07-01</td><td>17328</td></tr>\n",
       "\t<tr><th scope=row>6</th><td>2015-01-01</td><td>17449</td></tr>\n",
       "\t<tr><th scope=row>7</th><td>2015-07-01</td><td>17521</td></tr>\n",
       "\t<tr><th scope=row>8</th><td>2016-01-01</td><td>17802</td></tr>\n",
       "</tbody>\n",
       "</table>\n"
      ],
      "text/latex": [
       "\\begin{tabular}{r|ll}\n",
       "  & effective_date & N\\\\\n",
       "\\hline\n",
       "\t1 & 2012-01-01 & 17215\\\\\n",
       "\t2 & 2013-01-01 & 17390\\\\\n",
       "\t3 & 2013-07-01 & 17299\\\\\n",
       "\t4 & 2014-01-01 & 17581\\\\\n",
       "\t5 & 2014-07-01 & 17328\\\\\n",
       "\t6 & 2015-01-01 & 17449\\\\\n",
       "\t7 & 2015-07-01 & 17521\\\\\n",
       "\t8 & 2016-01-01 & 17802\\\\\n",
       "\\end{tabular}\n"
      ],
      "text/plain": [
       "   effective_date     N\n",
       "1:     2012-01-01 17215\n",
       "2:     2013-01-01 17390\n",
       "3:     2013-07-01 17299\n",
       "4:     2014-01-01 17581\n",
       "5:     2014-07-01 17328\n",
       "6:     2015-01-01 17449\n",
       "7:     2015-07-01 17521\n",
       "8:     2016-01-01 17802"
      ]
     },
     "execution_count": 4,
     "metadata": {},
     "output_type": "execute_result"
    }
   ],
   "source": [
    "fs[, .N, effective_date][order(effective_date)]"
   ]
  },
  {
   "cell_type": "code",
   "execution_count": 5,
   "metadata": {
    "collapsed": false
   },
   "outputs": [
    {
     "data": {
      "text/plain": [
       "    Min.  1st Qu.   Median     Mean  3rd Qu.     Max.     NA's \n",
       "    0.00     5.00    14.00   153.00    36.36 36160.00    27133 "
      ]
     },
     "execution_count": 5,
     "metadata": {},
     "output_type": "execute_result"
    },
    {
     "data": {
      "text/plain": [
       "   Min. 1st Qu.  Median    Mean 3rd Qu.    Max.    NA's \n",
       "   0.00    1.00    7.55   15.41   33.11   33.94   27133 "
      ]
     },
     "execution_count": 5,
     "metadata": {},
     "output_type": "execute_result"
    },
    {
     "data": {
      "text/html": [
       "<table>\n",
       "<thead><tr><th></th><th scope=col>total_allowable</th><th scope=col>N</th></tr></thead>\n",
       "<tbody>\n",
       "\t<tr><th scope=row>1</th><td>NOT A BENEFIT</td><td>20202</td></tr>\n",
       "\t<tr><th scope=row>2</th><td>VARIES BASED ON TOTAL ANESTHESIA TIME</td><td>2185</td></tr>\n",
       "\t<tr><th scope=row>3</th><td>CODE IS MANUALLY PRICED</td><td>6329</td></tr>\n",
       "\t<tr><th scope=row>4</th><td>AVAILABLE THROUGH CO IMMUNIZATION PROGRAM</td><td>6</td></tr>\n",
       "\t<tr><th scope=row>5</th><td>AVAILABLE THROUGH VFC</td><td>287</td></tr>\n",
       "\t<tr><th scope=row>6</th><td>RATE VARIES</td><td>6</td></tr>\n",
       "</tbody>\n",
       "</table>\n"
      ],
      "text/latex": [
       "\\begin{tabular}{r|ll}\n",
       "  & total_allowable & N\\\\\n",
       "\\hline\n",
       "\t1 & NOT A BENEFIT & 20202\\\\\n",
       "\t2 & VARIES BASED ON TOTAL ANESTHESIA TIME & 2185\\\\\n",
       "\t3 & CODE IS MANUALLY PRICED & 6329\\\\\n",
       "\t4 & AVAILABLE THROUGH CO IMMUNIZATION PROGRAM & 6\\\\\n",
       "\t5 & AVAILABLE THROUGH VFC & 287\\\\\n",
       "\t6 & RATE VARIES & 6\\\\\n",
       "\\end{tabular}\n"
      ],
      "text/plain": [
       "                             total_allowable     N\n",
       "1:                             NOT A BENEFIT 20202\n",
       "2:     VARIES BASED ON TOTAL ANESTHESIA TIME  2185\n",
       "3:                   CODE IS MANUALLY PRICED  6329\n",
       "4: AVAILABLE THROUGH CO IMMUNIZATION PROGRAM     6\n",
       "5:                     AVAILABLE THROUGH VFC   287\n",
       "6:                               RATE VARIES     6"
      ]
     },
     "execution_count": 5,
     "metadata": {},
     "output_type": "execute_result"
    },
    {
     "data": {
      "text/plain": [
       "   Min. 1st Qu.  Median    Mean 3rd Qu.    Max.    NA's \n",
       "  0.000   0.000   0.000   1.196   0.000 998.000   20606 "
      ]
     },
     "execution_count": 5,
     "metadata": {},
     "output_type": "execute_result"
    },
    {
     "data": {
      "text/plain": [
       "   Min. 1st Qu.  Median    Mean 3rd Qu.    Max.    NA's \n",
       "    0.0   999.0   999.0   959.3   999.0  9999.0   20606 "
      ]
     },
     "execution_count": 5,
     "metadata": {},
     "output_type": "execute_result"
    },
    {
     "data": {
      "text/html": [
       "<table>\n",
       "<thead><tr><th></th><th scope=col>prior_auth_needed</th><th scope=col>N</th></tr></thead>\n",
       "<tbody>\n",
       "\t<tr><th scope=row>1</th><td>NA</td><td>20248</td></tr>\n",
       "\t<tr><th scope=row>2</th><td>NO</td><td>104556</td></tr>\n",
       "\t<tr><th scope=row>3</th><td>YES</td><td>13542</td></tr>\n",
       "\t<tr><th scope=row>4</th><td>SOMETIMES</td><td>1239</td></tr>\n",
       "</tbody>\n",
       "</table>\n"
      ],
      "text/latex": [
       "\\begin{tabular}{r|ll}\n",
       "  & prior_auth_needed & N\\\\\n",
       "\\hline\n",
       "\t1 & NA & 20248\\\\\n",
       "\t2 & NO & 104556\\\\\n",
       "\t3 & YES & 13542\\\\\n",
       "\t4 & SOMETIMES & 1239\\\\\n",
       "\\end{tabular}\n"
      ],
      "text/plain": [
       "   prior_auth_needed      N\n",
       "1:                NA  20248\n",
       "2:                NO 104556\n",
       "3:               YES  13542\n",
       "4:         SOMETIMES   1239"
      ]
     },
     "execution_count": 5,
     "metadata": {},
     "output_type": "execute_result"
    }
   ],
   "source": [
    "summary(fs[, base_value])\n",
    "summary(fs[, conversion_factor])\n",
    "fs[grep(\"[a-z]\", total_allowable, ignore.case=TRUE), .N, total_allowable]\n",
    "summary(fs[, min_age])\n",
    "summary(fs[, max_age])\n",
    "fs[, .N, prior_auth_needed]"
   ]
  },
  {
   "cell_type": "code",
   "execution_count": 6,
   "metadata": {
    "collapsed": false
   },
   "outputs": [
    {
     "data": {
      "text/html": [
       "<table>\n",
       "<thead><tr><th></th><th scope=col>procedure_code</th><th scope=col>modifier</th><th scope=col>base_value</th><th scope=col>conversion_factor</th><th scope=col>total_allowable</th><th scope=col>min_age</th><th scope=col>max_age</th><th scope=col>postop_days</th><th scope=col>prior_auth_needed</th><th scope=col>effective_date</th></tr></thead>\n",
       "<tbody>\n",
       "\t<tr><th scope=row>1</th><td>0001F</td><td>NA</td><td>NA</td><td>NA</td><td>NOT A BENEFIT</td><td>NA</td><td>NA</td><td>NA</td><td>NA</td><td>2012-01-01</td></tr>\n",
       "\t<tr><th scope=row>2</th><td>0005F</td><td>NA</td><td>NA</td><td>NA</td><td>NOT A BENEFIT</td><td>NA</td><td>NA</td><td>NA</td><td>NA</td><td>2012-01-01</td></tr>\n",
       "\t<tr><th scope=row>3</th><td>00100</td><td>NA</td><td>5</td><td>20.17</td><td>VARIES BASED ON TOTAL ANESTHESIA TIME</td><td>0</td><td>999</td><td>0</td><td>NO</td><td>2012-01-01</td></tr>\n",
       "\t<tr><th scope=row>4</th><td>00102</td><td>NA</td><td>6</td><td>20.17</td><td>VARIES BASED ON TOTAL ANESTHESIA TIME</td><td>0</td><td>999</td><td>0</td><td>NO</td><td>2012-01-01</td></tr>\n",
       "\t<tr><th scope=row>5</th><td>00103</td><td>NA</td><td>5</td><td>20.17</td><td>VARIES BASED ON TOTAL ANESTHESIA TIME</td><td>0</td><td>999</td><td>0</td><td>NO</td><td>2012-01-01</td></tr>\n",
       "\t<tr><th scope=row>6</th><td>00104</td><td>NA</td><td>4</td><td>20.17</td><td>VARIES BASED ON TOTAL ANESTHESIA TIME</td><td>0</td><td>999</td><td>0</td><td>NO</td><td>2012-01-01</td></tr>\n",
       "</tbody>\n",
       "</table>\n"
      ],
      "text/latex": [
       "\\begin{tabular}{r|llllllllll}\n",
       "  & procedure_code & modifier & base_value & conversion_factor & total_allowable & min_age & max_age & postop_days & prior_auth_needed & effective_date\\\\\n",
       "\\hline\n",
       "\t1 & 0001F & NA & NA & NA & NOT A BENEFIT & NA & NA & NA & NA & 2012-01-01\\\\\n",
       "\t2 & 0005F & NA & NA & NA & NOT A BENEFIT & NA & NA & NA & NA & 2012-01-01\\\\\n",
       "\t3 & 00100 & NA & 5 & 20.17 & VARIES BASED ON TOTAL ANESTHESIA TIME & 0 & 999 & 0 & NO & 2012-01-01\\\\\n",
       "\t4 & 00102 & NA & 6 & 20.17 & VARIES BASED ON TOTAL ANESTHESIA TIME & 0 & 999 & 0 & NO & 2012-01-01\\\\\n",
       "\t5 & 00103 & NA & 5 & 20.17 & VARIES BASED ON TOTAL ANESTHESIA TIME & 0 & 999 & 0 & NO & 2012-01-01\\\\\n",
       "\t6 & 00104 & NA & 4 & 20.17 & VARIES BASED ON TOTAL ANESTHESIA TIME & 0 & 999 & 0 & NO & 2012-01-01\\\\\n",
       "\\end{tabular}\n"
      ],
      "text/plain": [
       "   procedure_code modifier base_value conversion_factor\n",
       "1:          0001F       NA         NA                NA\n",
       "2:          0005F       NA         NA                NA\n",
       "3:          00100       NA          5             20.17\n",
       "4:          00102       NA          6             20.17\n",
       "5:          00103       NA          5             20.17\n",
       "6:          00104       NA          4             20.17\n",
       "                         total_allowable min_age max_age postop_days\n",
       "1:                         NOT A BENEFIT      NA      NA          NA\n",
       "2:                         NOT A BENEFIT      NA      NA          NA\n",
       "3: VARIES BASED ON TOTAL ANESTHESIA TIME       0     999           0\n",
       "4: VARIES BASED ON TOTAL ANESTHESIA TIME       0     999           0\n",
       "5: VARIES BASED ON TOTAL ANESTHESIA TIME       0     999           0\n",
       "6: VARIES BASED ON TOTAL ANESTHESIA TIME       0     999           0\n",
       "   prior_auth_needed effective_date\n",
       "1:                NA     2012-01-01\n",
       "2:                NA     2012-01-01\n",
       "3:                NO     2012-01-01\n",
       "4:                NO     2012-01-01\n",
       "5:                NO     2012-01-01\n",
       "6:                NO     2012-01-01"
      ]
     },
     "execution_count": 6,
     "metadata": {},
     "output_type": "execute_result"
    },
    {
     "data": {
      "text/html": [
       "<table>\n",
       "<thead><tr><th></th><th scope=col>procedure_code</th><th scope=col>modifier</th><th scope=col>base_value</th><th scope=col>conversion_factor</th><th scope=col>total_allowable</th><th scope=col>min_age</th><th scope=col>max_age</th><th scope=col>postop_days</th><th scope=col>prior_auth_needed</th><th scope=col>effective_date</th></tr></thead>\n",
       "<tbody>\n",
       "\t<tr><th scope=row>1</th><td>V5275</td><td>NA</td><td>39.06</td><td>1</td><td>$39.06</td><td>0</td><td>20</td><td>0</td><td>NO</td><td>2014-07-01</td></tr>\n",
       "\t<tr><th scope=row>2</th><td>V5299</td><td>NA</td><td>26.57</td><td>1</td><td>$26.57</td><td>0</td><td>20</td><td>0</td><td>NO</td><td>2014-07-01</td></tr>\n",
       "\t<tr><th scope=row>3</th><td>V5336</td><td>NA</td><td>NA</td><td>NA</td><td>NOT A BENEFIT</td><td>NA</td><td>NA</td><td>NA</td><td>NA</td><td>2014-07-01</td></tr>\n",
       "\t<tr><th scope=row>4</th><td>V5362</td><td>NA</td><td>NA</td><td>NA</td><td>NOT A BENEFIT</td><td>NA</td><td>NA</td><td>NA</td><td>NA</td><td>2014-07-01</td></tr>\n",
       "\t<tr><th scope=row>5</th><td>V5363</td><td>NA</td><td>NA</td><td>NA</td><td>NOT A BENEFIT</td><td>NA</td><td>NA</td><td>NA</td><td>NA</td><td>2014-07-01</td></tr>\n",
       "\t<tr><th scope=row>6</th><td>V5364</td><td>NA</td><td>NA</td><td>NA</td><td>NOT A BENEFIT</td><td>NA</td><td>NA</td><td>NA</td><td>NA</td><td>2014-07-01</td></tr>\n",
       "</tbody>\n",
       "</table>\n"
      ],
      "text/latex": [
       "\\begin{tabular}{r|llllllllll}\n",
       "  & procedure_code & modifier & base_value & conversion_factor & total_allowable & min_age & max_age & postop_days & prior_auth_needed & effective_date\\\\\n",
       "\\hline\n",
       "\t1 & V5275 & NA & 39.06 & 1 & $39.06 & 0 & 20 & 0 & NO & 2014-07-01\\\\\n",
       "\t2 & V5299 & NA & 26.57 & 1 & $26.57 & 0 & 20 & 0 & NO & 2014-07-01\\\\\n",
       "\t3 & V5336 & NA & NA & NA & NOT A BENEFIT & NA & NA & NA & NA & 2014-07-01\\\\\n",
       "\t4 & V5362 & NA & NA & NA & NOT A BENEFIT & NA & NA & NA & NA & 2014-07-01\\\\\n",
       "\t5 & V5363 & NA & NA & NA & NOT A BENEFIT & NA & NA & NA & NA & 2014-07-01\\\\\n",
       "\t6 & V5364 & NA & NA & NA & NOT A BENEFIT & NA & NA & NA & NA & 2014-07-01\\\\\n",
       "\\end{tabular}\n"
      ],
      "text/plain": [
       "   procedure_code modifier base_value conversion_factor total_allowable min_age\n",
       "1:          V5275       NA      39.06                 1          $39.06       0\n",
       "2:          V5299       NA      26.57                 1          $26.57       0\n",
       "3:          V5336       NA         NA                NA   NOT A BENEFIT      NA\n",
       "4:          V5362       NA         NA                NA   NOT A BENEFIT      NA\n",
       "5:          V5363       NA         NA                NA   NOT A BENEFIT      NA\n",
       "6:          V5364       NA         NA                NA   NOT A BENEFIT      NA\n",
       "   max_age postop_days prior_auth_needed effective_date\n",
       "1:      20           0                NO     2014-07-01\n",
       "2:      20           0                NO     2014-07-01\n",
       "3:      NA          NA                NA     2014-07-01\n",
       "4:      NA          NA                NA     2014-07-01\n",
       "5:      NA          NA                NA     2014-07-01\n",
       "6:      NA          NA                NA     2014-07-01"
      ]
     },
     "execution_count": 6,
     "metadata": {},
     "output_type": "execute_result"
    }
   ],
   "source": [
    "head(fs)\n",
    "tail(fs)"
   ]
  }
 ],
 "metadata": {
  "kernelspec": {
   "display_name": "R",
   "language": "R",
   "name": "ir"
  },
  "language_info": {
   "codemirror_mode": "r",
   "file_extension": ".r",
   "mimetype": "text/x-r-source",
   "name": "R",
   "pygments_lexer": "r",
   "version": "3.2.2"
  }
 },
 "nbformat": 4,
 "nbformat_minor": 0
}
