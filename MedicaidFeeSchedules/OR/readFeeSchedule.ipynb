{
 "cells": [
  {
   "cell_type": "markdown",
   "metadata": {},
   "source": [
    "# Read Oregon Medicaid Fee Schedules\n",
    "\n",
    "Oregon's Medicaid fee schedules come in either CSV, PDF, or Excel format.\n",
    "We'll download the CSV versions.\n",
    "\n",
    "Main website for OHP Data and Reports is [here](http://www.oregon.gov/oha/healthplan/Pages/reports.aspx).\n",
    "\n",
    "* Fee schedule are release quarterly\n",
    "* File name format is in the form\n",
    "    ```\n",
    "    http://www.oregon.gov/oha/healthplan/DataReportsDocs/[monthname]%20YYYY%20Fee%20Schedule%20-%20CSV.csv\n",
    "    ```\n",
    "    \n",
    "    `monthname` is generally Februrary, May, August, November; but is not consistent.\n",
    "    **Manual checking at the OHP Data and Reports [website](http://www.oregon.gov/oha/healthplan/Pages/reports.aspx) is required.**\n",
    "    \n",
    "* `report_date` is not exact\n",
    "    * It is parsed from the URL and uses the 1st of the month\n",
    "    * It is not the actual date of the fee schedule report posted on the [website](http://www.oregon.gov/oha/healthplan/Pages/reports.aspx)"
   ]
  },
  {
   "cell_type": "code",
   "execution_count": 1,
   "metadata": {
    "collapsed": false
   },
   "outputs": [],
   "source": [
    "library(data.table)\n",
    "readFS <- function (url) {\n",
    "    require(data.table, quietly=TRUE)\n",
    "    require(lubridate, quietly=TRUE)\n",
    "    x <- strsplit(url, \"(%20)|/|-\")[[1]]\n",
    "    i <- grep(\"20[01][0-9]\", x)\n",
    "    year <- x[i]\n",
    "    month <- x[i - 1]\n",
    "    D <- fread(url, colClasses=\"character\", na.strings=c(\"\"))\n",
    "    old <- names(D)\n",
    "    new <- tolower(gsub(\"(\\\\s+)|(\\\\n)\", \"_\", old))\n",
    "    new <- gsub(\"^proc_code$\", \"procedure_code\", new)\n",
    "    new <- gsub(\"mod1|mod_1\", \"modifier_1\", new)\n",
    "    new <- gsub(\"mod2|mod_2\", \"modifier_2\", new)\n",
    "    setnames(D, old, new)\n",
    "    D <- D[procedure_code != \"\"]\n",
    "    D <- D[, price := as.numeric(gsub(\"(\\\\$)|(,)\", \"\", price))]\n",
    "    D <- D[, effective_date := fast_strptime(effective_date, \"%Y%m%d\")]\n",
    "    D <- D[, report_date := as.Date(paste(month, \"01\", year), format=\"%B %d %Y\")]\n",
    "    if (!(\"modifier_2\" %in% names(D))) {D <- D[, modifier_2 := NA_character_]}\n",
    "    if (!(\"rate_type\" %in% names(D))) {D <- D[, rate_type := NA_character_]}\n",
    "    D[,\n",
    "      .(procedure_code,\n",
    "        description,\n",
    "        modifier_1,\n",
    "        modifier_2,\n",
    "        rate_type,\n",
    "        price,\n",
    "        effective_date,\n",
    "        report_date)]\n",
    "}"
   ]
  },
  {
   "cell_type": "code",
   "execution_count": 2,
   "metadata": {
    "collapsed": false
   },
   "outputs": [
    {
     "name": "stderr",
     "output_type": "stream",
     "text": [
      "\n",
      "Attaching package: 'lubridate'\n",
      "\n",
      "The following objects are masked from 'package:data.table':\n",
      "\n",
      "    hour, mday, month, quarter, wday, week, yday, year\n",
      "\n"
     ]
    },
    {
     "name": "stdout",
     "output_type": "stream",
     "text": [
      "Classes 'data.table' and 'data.frame':\t844662 obs. of  8 variables:\n",
      " $ procedure_code: chr  \"100\" \"102\" \"103\" \"104\" ...\n",
      " $ description   : chr  \"ANESTH, SALIVARY GLAND\" \"ANESTH, REPAIR OF CLEFT LIP\" \"ANESTH, BLEPHAROPLASTY\" \"ANESTH, ELECTROSHOCK\" ...\n",
      " $ modifier_1    : chr  NA NA NA NA ...\n",
      " $ modifier_2    : chr  NA NA NA NA ...\n",
      " $ rate_type     : chr  NA NA NA NA ...\n",
      " $ price         : num  24.2 24.2 24.2 24.2 24.2 ...\n",
      " $ effective_date: POSIXct, format: \"2008-01-01\" \"2008-01-01\" ...\n",
      " $ report_date   : Date, format: \"2010-03-01\" \"2010-03-01\" ...\n",
      " - attr(*, \".internal.selfref\")=<externalptr> \n"
     ]
    }
   ],
   "source": [
    "urlStem <- \"http://www.oregon.gov/oha/healthplan/DataReportsDocs/\"\n",
    "fs <- rbindlist(list(\n",
    "    readFS(paste0(urlStem, \"March%202010%20Fee%20Schedule%20-%20CSV.csv\")),\n",
    "    readFS(paste0(urlStem, \"May%202010%20Fee%20Schedule%20-%20CSV.csv\")),\n",
    "    readFS(paste0(urlStem, \"August%202010%20Fee%20Schedule%20-%20CSV.csv\")),\n",
    "    # readFS(paste0(urlStem, \"December%202010%20Fee%20Schedule%20-%20CSV.csv\")),\n",
    "    readFS(paste0(urlStem, \"February%202011%20Fee%20Schedule%20-%20CSV.csv\")),\n",
    "    readFS(paste0(urlStem, \"May%202011%20Fee%20Schedule%20-%20CSV.csv\")),\n",
    "    readFS(paste0(urlStem, \"August%202011%20Fee%20Schedule%20-%20CSV.csv\")),\n",
    "    readFS(paste0(urlStem, \"November%202011%20Fee%20Schedule%20-%20CSV.csv\")),\n",
    "    readFS(paste0(urlStem, \"February%202012%20Fee%20Schedule%20-%20CSV.csv\")),\n",
    "    readFS(paste0(urlStem, \"May%202012%20Fee%20Schedule%20-%20CSV.csv\")),\n",
    "    readFS(paste0(urlStem, \"August%202012%20Fee%20Schedule%20-%20CSV.csv\")),\n",
    "    readFS(paste0(urlStem, \"November%202012%20Fee%20Schedule%20-%20CSV.csv\")),\n",
    "    readFS(paste0(urlStem, \"March%202013%20Fee%20Schedule%20-%20CSV.csv\")),\n",
    "    readFS(paste0(urlStem, \"August%202013%20Fee%20Schedule%20-%20CSV.csv\")),\n",
    "    readFS(paste0(urlStem, \"Nov%202013%20Fee%20Schedule%20-%20CSV.csv\")),\n",
    "    readFS(paste0(urlStem, \"February-March%202014%20Fee%20Schedule%20-%20CSV.csv\")),\n",
    "    readFS(paste0(urlStem, \"May-June%202014%20Fee%20Schedule%20-%20CSV.csv\")),\n",
    "    readFS(paste0(urlStem, \"August%202014%20Fee%20Schedule%20-%20CSV.csv\")),\n",
    "    readFS(paste0(urlStem, \"November%202014%20Fee%20Schedule%20-%20CSV.csv\")),\n",
    "    readFS(paste0(urlStem, \"February-March%202015%20Fee%20Schedule%20-%20CSV.csv\")),\n",
    "    readFS(paste0(urlStem, \"May%202015%20Fee%20Schedule%20-%20CSV.csv\")),\n",
    "    readFS(paste0(urlStem, \"August-September%202015%20Fee%20Schedule%20-%20CSV.csv\")),\n",
    "    readFS(paste0(urlStem, \"December%202015%20Fee%20Schedule%20-%20CSV.csv\")),\n",
    "    readFS(paste0(urlStem, \"February%202016%20Fee%20Schedule%20-%20CSV.csv\")),\n",
    "    readFS(paste0(urlStem, \"April%202016%20Fee%20Schedule%20-%20CSV.csv\"))\n",
    "))\n",
    "str(fs)"
   ]
  },
  {
   "cell_type": "code",
   "execution_count": 3,
   "metadata": {
    "collapsed": false
   },
   "outputs": [
    {
     "data": {
      "text/html": [
       "<table>\n",
       "<thead><tr><th></th><th scope=col>report_date</th><th scope=col>N</th></tr></thead>\n",
       "<tbody>\n",
       "\t<tr><th scope=row>1</th><td>2010-03-01</td><td>28080</td></tr>\n",
       "\t<tr><th scope=row>2</th><td>2010-05-01</td><td>28105</td></tr>\n",
       "\t<tr><th scope=row>3</th><td>2010-08-01</td><td>28104</td></tr>\n",
       "\t<tr><th scope=row>4</th><td>2011-02-01</td><td>26769</td></tr>\n",
       "\t<tr><th scope=row>5</th><td>2011-05-01</td><td>26812</td></tr>\n",
       "\t<tr><th scope=row>6</th><td>2011-08-01</td><td>26952</td></tr>\n",
       "\t<tr><th scope=row>7</th><td>2011-11-01</td><td>27005</td></tr>\n",
       "\t<tr><th scope=row>8</th><td>2012-02-01</td><td>27000</td></tr>\n",
       "\t<tr><th scope=row>9</th><td>2012-05-01</td><td>26988</td></tr>\n",
       "\t<tr><th scope=row>10</th><td>2012-08-01</td><td>26927</td></tr>\n",
       "\t<tr><th scope=row>11</th><td>2012-11-01</td><td>26920</td></tr>\n",
       "\t<tr><th scope=row>12</th><td>2013-03-01</td><td>26787</td></tr>\n",
       "\t<tr><th scope=row>13</th><td>2013-08-01</td><td>27130</td></tr>\n",
       "\t<tr><th scope=row>14</th><td>2013-11-01</td><td>27146</td></tr>\n",
       "\t<tr><th scope=row>15</th><td>2014-03-01</td><td>45997</td></tr>\n",
       "\t<tr><th scope=row>16</th><td>2014-06-01</td><td>45961</td></tr>\n",
       "\t<tr><th scope=row>17</th><td>2014-08-01</td><td>45973</td></tr>\n",
       "\t<tr><th scope=row>18</th><td>2014-11-01</td><td>46498</td></tr>\n",
       "\t<tr><th scope=row>19</th><td>2015-03-01</td><td>46171</td></tr>\n",
       "\t<tr><th scope=row>20</th><td>2015-05-01</td><td>46236</td></tr>\n",
       "\t<tr><th scope=row>21</th><td>2015-09-01</td><td>46732</td></tr>\n",
       "\t<tr><th scope=row>22</th><td>2015-12-01</td><td>46798</td></tr>\n",
       "\t<tr><th scope=row>23</th><td>2016-02-01</td><td>46903</td></tr>\n",
       "\t<tr><th scope=row>24</th><td>2016-04-01</td><td>46668</td></tr>\n",
       "</tbody>\n",
       "</table>\n"
      ],
      "text/latex": [
       "\\begin{tabular}{r|ll}\n",
       "  & report_date & N\\\\\n",
       "\\hline\n",
       "\t1 & 2010-03-01 & 28080\\\\\n",
       "\t2 & 2010-05-01 & 28105\\\\\n",
       "\t3 & 2010-08-01 & 28104\\\\\n",
       "\t4 & 2011-02-01 & 26769\\\\\n",
       "\t5 & 2011-05-01 & 26812\\\\\n",
       "\t6 & 2011-08-01 & 26952\\\\\n",
       "\t7 & 2011-11-01 & 27005\\\\\n",
       "\t8 & 2012-02-01 & 27000\\\\\n",
       "\t9 & 2012-05-01 & 26988\\\\\n",
       "\t10 & 2012-08-01 & 26927\\\\\n",
       "\t11 & 2012-11-01 & 26920\\\\\n",
       "\t12 & 2013-03-01 & 26787\\\\\n",
       "\t13 & 2013-08-01 & 27130\\\\\n",
       "\t14 & 2013-11-01 & 27146\\\\\n",
       "\t15 & 2014-03-01 & 45997\\\\\n",
       "\t16 & 2014-06-01 & 45961\\\\\n",
       "\t17 & 2014-08-01 & 45973\\\\\n",
       "\t18 & 2014-11-01 & 46498\\\\\n",
       "\t19 & 2015-03-01 & 46171\\\\\n",
       "\t20 & 2015-05-01 & 46236\\\\\n",
       "\t21 & 2015-09-01 & 46732\\\\\n",
       "\t22 & 2015-12-01 & 46798\\\\\n",
       "\t23 & 2016-02-01 & 46903\\\\\n",
       "\t24 & 2016-04-01 & 46668\\\\\n",
       "\\end{tabular}\n"
      ],
      "text/plain": [
       "    report_date     N\n",
       " 1:  2010-03-01 28080\n",
       " 2:  2010-05-01 28105\n",
       " 3:  2010-08-01 28104\n",
       " 4:  2011-02-01 26769\n",
       " 5:  2011-05-01 26812\n",
       " 6:  2011-08-01 26952\n",
       " 7:  2011-11-01 27005\n",
       " 8:  2012-02-01 27000\n",
       " 9:  2012-05-01 26988\n",
       "10:  2012-08-01 26927\n",
       "11:  2012-11-01 26920\n",
       "12:  2013-03-01 26787\n",
       "13:  2013-08-01 27130\n",
       "14:  2013-11-01 27146\n",
       "15:  2014-03-01 45997\n",
       "16:  2014-06-01 45961\n",
       "17:  2014-08-01 45973\n",
       "18:  2014-11-01 46498\n",
       "19:  2015-03-01 46171\n",
       "20:  2015-05-01 46236\n",
       "21:  2015-09-01 46732\n",
       "22:  2015-12-01 46798\n",
       "23:  2016-02-01 46903\n",
       "24:  2016-04-01 46668\n",
       "    report_date     N"
      ]
     },
     "execution_count": 3,
     "metadata": {},
     "output_type": "execute_result"
    }
   ],
   "source": [
    "fs[, .N, report_date][order(report_date)]"
   ]
  },
  {
   "cell_type": "code",
   "execution_count": 4,
   "metadata": {
    "collapsed": false
   },
   "outputs": [
    {
     "data": {
      "text/html": [
       "<table>\n",
       "<thead><tr><th></th><th scope=col>procedure_code</th><th scope=col>description</th><th scope=col>modifier_1</th><th scope=col>modifier_2</th><th scope=col>rate_type</th><th scope=col>price</th><th scope=col>effective_date</th><th scope=col>report_date</th></tr></thead>\n",
       "<tbody>\n",
       "\t<tr><th scope=row>1</th><td>100</td><td>ANESTH, SALIVARY GLAND</td><td>NA</td><td>NA</td><td>NA</td><td>24.19</td><td>2008-01-01</td><td>2010-03-01</td></tr>\n",
       "\t<tr><th scope=row>2</th><td>102</td><td>ANESTH, REPAIR OF CLEFT LIP</td><td>NA</td><td>NA</td><td>NA</td><td>24.19</td><td>2008-01-01</td><td>2010-03-01</td></tr>\n",
       "\t<tr><th scope=row>3</th><td>103</td><td>ANESTH, BLEPHAROPLASTY</td><td>NA</td><td>NA</td><td>NA</td><td>24.19</td><td>2008-01-01</td><td>2010-03-01</td></tr>\n",
       "\t<tr><th scope=row>4</th><td>104</td><td>ANESTH, ELECTROSHOCK</td><td>NA</td><td>NA</td><td>NA</td><td>24.19</td><td>2008-01-01</td><td>2010-03-01</td></tr>\n",
       "\t<tr><th scope=row>5</th><td>120</td><td>ANESTH, EAR SURGERY</td><td>NA</td><td>NA</td><td>NA</td><td>24.19</td><td>2008-01-01</td><td>2010-03-01</td></tr>\n",
       "\t<tr><th scope=row>6</th><td>124</td><td>ANESTH, EAR EXAM</td><td>NA</td><td>NA</td><td>NA</td><td>24.19</td><td>2008-01-01</td><td>2010-03-01</td></tr>\n",
       "</tbody>\n",
       "</table>\n"
      ],
      "text/latex": [
       "\\begin{tabular}{r|llllllll}\n",
       "  & procedure_code & description & modifier_1 & modifier_2 & rate_type & price & effective_date & report_date\\\\\n",
       "\\hline\n",
       "\t1 & 100 & ANESTH, SALIVARY GLAND & NA & NA & NA & 24.19 & 2008-01-01 & 2010-03-01\\\\\n",
       "\t2 & 102 & ANESTH, REPAIR OF CLEFT LIP & NA & NA & NA & 24.19 & 2008-01-01 & 2010-03-01\\\\\n",
       "\t3 & 103 & ANESTH, BLEPHAROPLASTY & NA & NA & NA & 24.19 & 2008-01-01 & 2010-03-01\\\\\n",
       "\t4 & 104 & ANESTH, ELECTROSHOCK & NA & NA & NA & 24.19 & 2008-01-01 & 2010-03-01\\\\\n",
       "\t5 & 120 & ANESTH, EAR SURGERY & NA & NA & NA & 24.19 & 2008-01-01 & 2010-03-01\\\\\n",
       "\t6 & 124 & ANESTH, EAR EXAM & NA & NA & NA & 24.19 & 2008-01-01 & 2010-03-01\\\\\n",
       "\\end{tabular}\n"
      ],
      "text/plain": [
       "   procedure_code                 description modifier_1 modifier_2 rate_type\n",
       "1:            100      ANESTH, SALIVARY GLAND         NA         NA        NA\n",
       "2:            102 ANESTH, REPAIR OF CLEFT LIP         NA         NA        NA\n",
       "3:            103      ANESTH, BLEPHAROPLASTY         NA         NA        NA\n",
       "4:            104        ANESTH, ELECTROSHOCK         NA         NA        NA\n",
       "5:            120         ANESTH, EAR SURGERY         NA         NA        NA\n",
       "6:            124            ANESTH, EAR EXAM         NA         NA        NA\n",
       "   price effective_date report_date\n",
       "1: 24.19     2008-01-01  2010-03-01\n",
       "2: 24.19     2008-01-01  2010-03-01\n",
       "3: 24.19     2008-01-01  2010-03-01\n",
       "4: 24.19     2008-01-01  2010-03-01\n",
       "5: 24.19     2008-01-01  2010-03-01\n",
       "6: 24.19     2008-01-01  2010-03-01"
      ]
     },
     "execution_count": 4,
     "metadata": {},
     "output_type": "execute_result"
    },
    {
     "data": {
      "text/html": [
       "<table>\n",
       "<thead><tr><th></th><th scope=col>procedure_code</th><th scope=col>description</th><th scope=col>modifier_1</th><th scope=col>modifier_2</th><th scope=col>rate_type</th><th scope=col>price</th><th scope=col>effective_date</th><th scope=col>report_date</th></tr></thead>\n",
       "<tbody>\n",
       "\t<tr><th scope=row>1</th><td>V5267</td><td>Hearing aid sup/access/dev</td><td>NA</td><td>NA</td><td>NA</td><td>72.92</td><td>2009-01-01</td><td>2016-04-01</td></tr>\n",
       "\t<tr><th scope=row>2</th><td>V5274</td><td>Ald unspecified</td><td>NA</td><td>NA</td><td>NA</td><td>115.16</td><td>2009-01-01</td><td>2016-04-01</td></tr>\n",
       "\t<tr><th scope=row>3</th><td>V5336</td><td>Repair communication device</td><td>NA</td><td>NA</td><td>NA</td><td>780.61</td><td>2009-01-01</td><td>2016-04-01</td></tr>\n",
       "\t<tr><th scope=row>4</th><td>V5362</td><td>Speech screening</td><td>NA</td><td>NA</td><td>NA</td><td>32.79</td><td>2009-01-01</td><td>2016-04-01</td></tr>\n",
       "\t<tr><th scope=row>5</th><td>V5363</td><td>Language screening</td><td>NA</td><td>NA</td><td>NA</td><td>32.79</td><td>2009-01-01</td><td>2016-04-01</td></tr>\n",
       "\t<tr><th scope=row>6</th><td>V5364</td><td>Dysphagia screening</td><td>NA</td><td>NA</td><td>NA</td><td>32.78</td><td>2009-01-01</td><td>2016-04-01</td></tr>\n",
       "</tbody>\n",
       "</table>\n"
      ],
      "text/latex": [
       "\\begin{tabular}{r|llllllll}\n",
       "  & procedure_code & description & modifier_1 & modifier_2 & rate_type & price & effective_date & report_date\\\\\n",
       "\\hline\n",
       "\t1 & V5267 & Hearing aid sup/access/dev & NA & NA & NA & 72.92 & 2009-01-01 & 2016-04-01\\\\\n",
       "\t2 & V5274 & Ald unspecified & NA & NA & NA & 115.16 & 2009-01-01 & 2016-04-01\\\\\n",
       "\t3 & V5336 & Repair communication device & NA & NA & NA & 780.61 & 2009-01-01 & 2016-04-01\\\\\n",
       "\t4 & V5362 & Speech screening & NA & NA & NA & 32.79 & 2009-01-01 & 2016-04-01\\\\\n",
       "\t5 & V5363 & Language screening & NA & NA & NA & 32.79 & 2009-01-01 & 2016-04-01\\\\\n",
       "\t6 & V5364 & Dysphagia screening & NA & NA & NA & 32.78 & 2009-01-01 & 2016-04-01\\\\\n",
       "\\end{tabular}\n"
      ],
      "text/plain": [
       "   procedure_code                 description modifier_1 modifier_2 rate_type\n",
       "1:          V5267  Hearing aid sup/access/dev         NA         NA        NA\n",
       "2:          V5274             Ald unspecified         NA         NA        NA\n",
       "3:          V5336 Repair communication device         NA         NA        NA\n",
       "4:          V5362            Speech screening         NA         NA        NA\n",
       "5:          V5363          Language screening         NA         NA        NA\n",
       "6:          V5364         Dysphagia screening         NA         NA        NA\n",
       "    price effective_date report_date\n",
       "1:  72.92     2009-01-01  2016-04-01\n",
       "2: 115.16     2009-01-01  2016-04-01\n",
       "3: 780.61     2009-01-01  2016-04-01\n",
       "4:  32.79     2009-01-01  2016-04-01\n",
       "5:  32.79     2009-01-01  2016-04-01\n",
       "6:  32.78     2009-01-01  2016-04-01"
      ]
     },
     "execution_count": 4,
     "metadata": {},
     "output_type": "execute_result"
    }
   ],
   "source": [
    "head(fs)\n",
    "tail(fs)"
   ]
  },
  {
   "cell_type": "markdown",
   "metadata": {},
   "source": [
    "The December 2010 fee schedule throws an error.\n",
    "This can be fixed by using the [dev version (1.9.7)](https://github.com/Rdatatable/data.table/blob/master/NEWS.md) of data.table, which adds a `fill=` argument to `fread`."
   ]
  },
  {
   "cell_type": "code",
   "execution_count": 5,
   "metadata": {
    "collapsed": false
   },
   "outputs": [
    {
     "ename": "ERROR",
     "evalue": "Error in fread(url, colClasses = \"character\", na.strings = c(\"\")): Expecting 7 cols, but line 15169 contains text after processing all cols. It is very likely that this is due to one or more fields having embedded sep=',' and/or (unescaped) '\\n' characters within unbalanced unescaped quotes. fread cannot handle such ambiguous cases and those lines may not have been read in as expected. Please read the section on quotes in ?fread.\n",
     "output_type": "error",
     "traceback": [
      "Error in fread(url, colClasses = \"character\", na.strings = c(\"\")): Expecting 7 cols, but line 15169 contains text after processing all cols. It is very likely that this is due to one or more fields having embedded sep=',' and/or (unescaped) '\\n' characters within unbalanced unescaped quotes. fread cannot handle such ambiguous cases and those lines may not have been read in as expected. Please read the section on quotes in ?fread.\n"
     ]
    },
    {
     "data": {
      "text/html": [
       "\"59151,TREAT ECTOPIC PREGNANCY,AS,,,$111.67 ,20100101,,,,,,,\""
      ],
      "text/latex": [
       "\"59151,TREAT ECTOPIC PREGNANCY,AS,,,$111.67 ,20100101,,,,,,,\""
      ],
      "text/markdown": [
       "\"59151,TREAT ECTOPIC PREGNANCY,AS,,,$111.67 ,20100101,,,,,,,\""
      ],
      "text/plain": [
       "[1] \"59151,TREAT ECTOPIC PREGNANCY,AS,,,$111.67 ,20100101,,,,,,,\""
      ]
     },
     "execution_count": 5,
     "metadata": {},
     "output_type": "execute_result"
    }
   ],
   "source": [
    "readFS(paste0(urlStem, \"December%202010%20Fee%20Schedule%20-%20CSV.csv\"))\n",
    "readLines(paste0(urlStem, \"December%202010%20Fee%20Schedule%20-%20CSV.csv\"))[15169]"
   ]
  }
 ],
 "metadata": {
  "kernelspec": {
   "display_name": "R",
   "language": "R",
   "name": "ir"
  },
  "language_info": {
   "codemirror_mode": "r",
   "file_extension": ".r",
   "mimetype": "text/x-r-source",
   "name": "R",
   "pygments_lexer": "r",
   "version": "3.2.2"
  }
 },
 "nbformat": 4,
 "nbformat_minor": 0
}
