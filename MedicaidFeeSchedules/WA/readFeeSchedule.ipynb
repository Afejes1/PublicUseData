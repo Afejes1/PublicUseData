{
 "cells": [
  {
   "cell_type": "markdown",
   "metadata": {
    "collapsed": true
   },
   "source": [
    "# Read Washington Medicaid Fee Schedules\n",
    "\n",
    "The Washington state Health Care Authority website for fee schedules is [here](http://www.hca.wa.gov/medicaid/rbrvs/Pages/index.aspx).\n",
    "\n",
    "* Fee schedules come in Excel format\n",
    "* Fee schedules are *usually* biannual (January and July)\n",
    "* Publicly available fee schedules go back to January 2011\n",
    "\n",
    "However, Washington's Medicaid fee schedules are a pain in the ass.\n",
    "They are publicly available as Microsoft Excel files but...\n",
    "\n",
    "* File names are not systematic\n",
    "* They do not read directly into R nicely (using either the `readxl` or `xlsx` packages)\n",
    "* Data lines start at different rows\n",
    "\n",
    "All these issues makes codifying difficult.\n",
    "As a workaround, the following steps were taken.\n",
    "\n",
    "1. Excel files are saved locally\n",
    "2. Excel files are converted to CSV\n",
    "3. CSV files are version controlled in this repository (since they are not large)\n",
    "4. CSV files are read into R\n",
    "\n",
    "The first 3 steps were done manually.\n",
    "The SHA for the commit of the CSV files is 5bde7f3e33e0c83bdace0ed0cf04553a41a8efb1 (5/5/2016).\n",
    "Step 4 is below."
   ]
  },
  {
   "cell_type": "code",
   "execution_count": 1,
   "metadata": {
    "collapsed": false
   },
   "outputs": [
    {
     "data": {
      "text/html": [
       "<ol class=list-inline>\n",
       "\t<li>\"Data/HCA_PREOH_January_1_2013.csv\"</li>\n",
       "\t<li>\"Data/physician_010114.csv\"</li>\n",
       "\t<li>\"Data/physician_010115.csv\"</li>\n",
       "\t<li>\"Data/physician_010116.csv\"</li>\n",
       "\t<li>\"Data/physician_040115.csv\"</li>\n",
       "\t<li>\"Data/physician_040116.csv\"</li>\n",
       "\t<li>\"Data/physician_070114.csv\"</li>\n",
       "\t<li>\"Data/physician_070115.csv\"</li>\n",
       "\t<li>\"Data/physician_100115.csv\"</li>\n",
       "\t<li>\"Data/preoh_010112.csv\"</li>\n",
       "\t<li>\"Data/preoh_01012011.csv\"</li>\n",
       "\t<li>\"Data/preoh_070112.csv\"</li>\n",
       "\t<li>\"Data/preoh_070113.csv\"</li>\n",
       "\t<li>\"Data/preoh_07012011.csv\"</li>\n",
       "</ol>\n"
      ],
      "text/latex": [
       "\\begin{enumerate*}\n",
       "\\item \"Data/HCA_PREOH_January_1_2013.csv\"\n",
       "\\item \"Data/physician_010114.csv\"\n",
       "\\item \"Data/physician_010115.csv\"\n",
       "\\item \"Data/physician_010116.csv\"\n",
       "\\item \"Data/physician_040115.csv\"\n",
       "\\item \"Data/physician_040116.csv\"\n",
       "\\item \"Data/physician_070114.csv\"\n",
       "\\item \"Data/physician_070115.csv\"\n",
       "\\item \"Data/physician_100115.csv\"\n",
       "\\item \"Data/preoh_010112.csv\"\n",
       "\\item \"Data/preoh_01012011.csv\"\n",
       "\\item \"Data/preoh_070112.csv\"\n",
       "\\item \"Data/preoh_070113.csv\"\n",
       "\\item \"Data/preoh_07012011.csv\"\n",
       "\\end{enumerate*}\n"
      ],
      "text/markdown": [
       "1. \"Data/HCA_PREOH_January_1_2013.csv\"\n",
       "2. \"Data/physician_010114.csv\"\n",
       "3. \"Data/physician_010115.csv\"\n",
       "4. \"Data/physician_010116.csv\"\n",
       "5. \"Data/physician_040115.csv\"\n",
       "6. \"Data/physician_040116.csv\"\n",
       "7. \"Data/physician_070114.csv\"\n",
       "8. \"Data/physician_070115.csv\"\n",
       "9. \"Data/physician_100115.csv\"\n",
       "10. \"Data/preoh_010112.csv\"\n",
       "11. \"Data/preoh_01012011.csv\"\n",
       "12. \"Data/preoh_070112.csv\"\n",
       "13. \"Data/preoh_070113.csv\"\n",
       "14. \"Data/preoh_07012011.csv\"\n",
       "\n",
       "\n"
      ],
      "text/plain": [
       " [1] \"Data/HCA_PREOH_January_1_2013.csv\" \"Data/physician_010114.csv\"        \n",
       " [3] \"Data/physician_010115.csv\"         \"Data/physician_010116.csv\"        \n",
       " [5] \"Data/physician_040115.csv\"         \"Data/physician_040116.csv\"        \n",
       " [7] \"Data/physician_070114.csv\"         \"Data/physician_070115.csv\"        \n",
       " [9] \"Data/physician_100115.csv\"         \"Data/preoh_010112.csv\"            \n",
       "[11] \"Data/preoh_01012011.csv\"           \"Data/preoh_070112.csv\"            \n",
       "[13] \"Data/preoh_070113.csv\"             \"Data/preoh_07012011.csv\"          "
      ]
     },
     "execution_count": 1,
     "metadata": {},
     "output_type": "execute_result"
    }
   ],
   "source": [
    "files <- paste(\"Data\", list.files(file.path(getwd(), \"Data\")), sep=\"/\")\n",
    "files"
   ]
  },
  {
   "cell_type": "code",
   "execution_count": 2,
   "metadata": {
    "collapsed": false
   },
   "outputs": [],
   "source": [
    "library(data.table)\n",
    "readFS <- function (f, skip) {\n",
    "    require(data.table, quietly=TRUE)\n",
    "    for (i in 11:16) {if (grepl(sprintf(\"%d\\\\.csv\", i), f)) {year <- as.numeric(sprintf(\"20%d\", i))}}\n",
    "    for (i in 1:12) {\n",
    "        monname <- format(as.Date(sprintf(\"%d-%d-01\", year, i)), format=\"%B\")\n",
    "        if (grepl(sprintf(\"_%02d\", i), f) | grepl(tolower(monname), f, ignore.case=TRUE)) {\n",
    "            mm <- i\n",
    "        }\n",
    "    }\n",
    "    colClasses <- rep(\"character\", 9)\n",
    "    D <- data.table(read.csv(f, header=FALSE, colClasses=colClasses, skip=skip, na.strings=c(\"\"), strip.white=TRUE))\n",
    "    old <- names(D)\n",
    "    keep <- c(\"code_status_indicator\",\n",
    "              \"code\",\n",
    "              \"mod\",\n",
    "              \"nfs_maximum_allowable\",\n",
    "              \"fs_maximum_allowable\",\n",
    "              \"pa_required\",\n",
    "              \"global_days\",\n",
    "              \"comments\")\n",
    "    if (length(old) > length(keep)) {new <- c(keep, old[(length(keep) + 1):length(old)])}\n",
    "    else {new <- keep}\n",
    "    setnames(D, old, new)\n",
    "    D <- D[, effective_date := as.Date(sprintf(\"%d-%d-01\", year, mm))]\n",
    "    D[, c(keep, \"effective_date\"), with=FALSE]\n",
    "}"
   ]
  },
  {
   "cell_type": "code",
   "execution_count": 3,
   "metadata": {
    "collapsed": false
   },
   "outputs": [
    {
     "name": "stdout",
     "output_type": "stream",
     "text": [
      "Classes 'data.table' and 'data.frame':\t164912 obs. of  9 variables:\n",
      " $ code_status_indicator: chr  NA NA NA NA ...\n",
      " $ code                 : chr  \"00100\" \"00102\" \"00103\" \"00104\" ...\n",
      " $ mod                  : chr  NA NA NA NA ...\n",
      " $ nfs_maximum_allowable: chr  \"5 Base\" \"6 Base\" \"5 Base\" \"4 Base\" ...\n",
      " $ fs_maximum_allowable : chr  \"5 Base\" \"6 Base\" \"5 Base\" \"4 Base\" ...\n",
      " $ pa_required          : chr  NA NA NA NA ...\n",
      " $ global_days          : chr  \"000\" \"000\" \"000\" \"000\" ...\n",
      " $ comments             : chr  \"N\" \"N\" \"N\" \"N\" ...\n",
      " $ effective_date       : Date, format: \"2013-01-01\" \"2013-01-01\" ...\n",
      " - attr(*, \".internal.selfref\")=<externalptr> \n"
     ]
    }
   ],
   "source": [
    "fs <- rbindlist(list(readFS(file.path(getwd(), \"Data/HCA_PREOH_January_1_2013.csv\"), 9),\n",
    "                     readFS(file.path(getwd(), \"Data/physician_010114.csv\"), 9),\n",
    "                     readFS(file.path(getwd(), \"Data/physician_010115.csv\"), 9),\n",
    "                     readFS(file.path(getwd(), \"Data/physician_010116.csv\"), 10),\n",
    "                     readFS(file.path(getwd(), \"Data/physician_040115.csv\"), 9),\n",
    "                     readFS(file.path(getwd(), \"Data/physician_040116.csv\"), 10),\n",
    "                     readFS(file.path(getwd(), \"Data/physician_070114.csv\"), 9),\n",
    "                     readFS(file.path(getwd(), \"Data/physician_070115.csv\"), 10),\n",
    "                     readFS(file.path(getwd(), \"Data/physician_100115.csv\"), 10),\n",
    "                     readFS(file.path(getwd(), \"Data/preoh_010112.csv\"), 6),\n",
    "                     readFS(file.path(getwd(), \"Data/preoh_01012011.csv\"), 6),\n",
    "                     readFS(file.path(getwd(), \"Data/preoh_070112.csv\"), 9),\n",
    "                     readFS(file.path(getwd(), \"Data/preoh_070113.csv\"), 9),\n",
    "                     readFS(file.path(getwd(), \"Data/preoh_07012011.csv\"), 6)))\n",
    "str(fs)"
   ]
  },
  {
   "cell_type": "code",
   "execution_count": 4,
   "metadata": {
    "collapsed": false
   },
   "outputs": [
    {
     "data": {
      "text/html": [
       "<table>\n",
       "<thead><tr><th></th><th scope=col>effective_date</th><th scope=col>N</th></tr></thead>\n",
       "<tbody>\n",
       "\t<tr><th scope=row>1</th><td>2011-01-01</td><td>11697</td></tr>\n",
       "\t<tr><th scope=row>2</th><td>2011-07-01</td><td>11518</td></tr>\n",
       "\t<tr><th scope=row>3</th><td>2012-01-01</td><td>11768</td></tr>\n",
       "\t<tr><th scope=row>4</th><td>2012-07-01</td><td>11606</td></tr>\n",
       "\t<tr><th scope=row>5</th><td>2013-01-01</td><td>11832</td></tr>\n",
       "\t<tr><th scope=row>6</th><td>2013-07-01</td><td>11656</td></tr>\n",
       "\t<tr><th scope=row>7</th><td>2014-01-01</td><td>11803</td></tr>\n",
       "\t<tr><th scope=row>8</th><td>2014-07-01</td><td>11743</td></tr>\n",
       "\t<tr><th scope=row>9</th><td>2015-01-01</td><td>12027</td></tr>\n",
       "\t<tr><th scope=row>10</th><td>2015-04-01</td><td>11835</td></tr>\n",
       "\t<tr><th scope=row>11</th><td>2015-07-01</td><td>11837</td></tr>\n",
       "\t<tr><th scope=row>12</th><td>2015-10-01</td><td>11841</td></tr>\n",
       "\t<tr><th scope=row>13</th><td>2016-01-01</td><td>11958</td></tr>\n",
       "\t<tr><th scope=row>14</th><td>2016-04-01</td><td>11791</td></tr>\n",
       "</tbody>\n",
       "</table>\n"
      ],
      "text/latex": [
       "\\begin{tabular}{r|ll}\n",
       "  & effective_date & N\\\\\n",
       "\\hline\n",
       "\t1 & 2011-01-01 & 11697\\\\\n",
       "\t2 & 2011-07-01 & 11518\\\\\n",
       "\t3 & 2012-01-01 & 11768\\\\\n",
       "\t4 & 2012-07-01 & 11606\\\\\n",
       "\t5 & 2013-01-01 & 11832\\\\\n",
       "\t6 & 2013-07-01 & 11656\\\\\n",
       "\t7 & 2014-01-01 & 11803\\\\\n",
       "\t8 & 2014-07-01 & 11743\\\\\n",
       "\t9 & 2015-01-01 & 12027\\\\\n",
       "\t10 & 2015-04-01 & 11835\\\\\n",
       "\t11 & 2015-07-01 & 11837\\\\\n",
       "\t12 & 2015-10-01 & 11841\\\\\n",
       "\t13 & 2016-01-01 & 11958\\\\\n",
       "\t14 & 2016-04-01 & 11791\\\\\n",
       "\\end{tabular}\n"
      ],
      "text/plain": [
       "    effective_date     N\n",
       " 1:     2011-01-01 11697\n",
       " 2:     2011-07-01 11518\n",
       " 3:     2012-01-01 11768\n",
       " 4:     2012-07-01 11606\n",
       " 5:     2013-01-01 11832\n",
       " 6:     2013-07-01 11656\n",
       " 7:     2014-01-01 11803\n",
       " 8:     2014-07-01 11743\n",
       " 9:     2015-01-01 12027\n",
       "10:     2015-04-01 11835\n",
       "11:     2015-07-01 11837\n",
       "12:     2015-10-01 11841\n",
       "13:     2016-01-01 11958\n",
       "14:     2016-04-01 11791"
      ]
     },
     "execution_count": 4,
     "metadata": {},
     "output_type": "execute_result"
    }
   ],
   "source": [
    "fs[, .N, effective_date][order(effective_date)]"
   ]
  },
  {
   "cell_type": "code",
   "execution_count": 5,
   "metadata": {
    "collapsed": false
   },
   "outputs": [
    {
     "data": {
      "text/html": [
       "<table>\n",
       "<thead><tr><th></th><th scope=col>code_status_indicator</th><th scope=col>code</th><th scope=col>mod</th><th scope=col>nfs_maximum_allowable</th><th scope=col>fs_maximum_allowable</th><th scope=col>pa_required</th><th scope=col>global_days</th><th scope=col>comments</th><th scope=col>effective_date</th></tr></thead>\n",
       "<tbody>\n",
       "\t<tr><th scope=row>1</th><td>NA</td><td>00100</td><td>NA</td><td>5 Base</td><td>5 Base</td><td>NA</td><td>000</td><td>N</td><td>2013-01-01</td></tr>\n",
       "\t<tr><th scope=row>2</th><td>NA</td><td>00102</td><td>NA</td><td>6 Base</td><td>6 Base</td><td>NA</td><td>000</td><td>N</td><td>2013-01-01</td></tr>\n",
       "\t<tr><th scope=row>3</th><td>NA</td><td>00103</td><td>NA</td><td>5 Base</td><td>5 Base</td><td>NA</td><td>000</td><td>N</td><td>2013-01-01</td></tr>\n",
       "\t<tr><th scope=row>4</th><td>NA</td><td>00104</td><td>NA</td><td>4 Base</td><td>4 Base</td><td>NA</td><td>000</td><td>N</td><td>2013-01-01</td></tr>\n",
       "\t<tr><th scope=row>5</th><td>NA</td><td>00120</td><td>NA</td><td>5 Base</td><td>5 Base</td><td>NA</td><td>000</td><td>N</td><td>2013-01-01</td></tr>\n",
       "\t<tr><th scope=row>6</th><td>NA</td><td>00124</td><td>NA</td><td>4 Base</td><td>4 Base</td><td>NA</td><td>000</td><td>N</td><td>2013-01-01</td></tr>\n",
       "</tbody>\n",
       "</table>\n"
      ],
      "text/latex": [
       "\\begin{tabular}{r|lllllllll}\n",
       "  & code_status_indicator & code & mod & nfs_maximum_allowable & fs_maximum_allowable & pa_required & global_days & comments & effective_date\\\\\n",
       "\\hline\n",
       "\t1 & NA & 00100 & NA & 5 Base & 5 Base & NA & 000 & N & 2013-01-01\\\\\n",
       "\t2 & NA & 00102 & NA & 6 Base & 6 Base & NA & 000 & N & 2013-01-01\\\\\n",
       "\t3 & NA & 00103 & NA & 5 Base & 5 Base & NA & 000 & N & 2013-01-01\\\\\n",
       "\t4 & NA & 00104 & NA & 4 Base & 4 Base & NA & 000 & N & 2013-01-01\\\\\n",
       "\t5 & NA & 00120 & NA & 5 Base & 5 Base & NA & 000 & N & 2013-01-01\\\\\n",
       "\t6 & NA & 00124 & NA & 4 Base & 4 Base & NA & 000 & N & 2013-01-01\\\\\n",
       "\\end{tabular}\n"
      ],
      "text/plain": [
       "   code_status_indicator  code mod nfs_maximum_allowable fs_maximum_allowable\n",
       "1:                    NA 00100  NA                5 Base               5 Base\n",
       "2:                    NA 00102  NA                6 Base               6 Base\n",
       "3:                    NA 00103  NA                5 Base               5 Base\n",
       "4:                    NA 00104  NA                4 Base               4 Base\n",
       "5:                    NA 00120  NA                5 Base               5 Base\n",
       "6:                    NA 00124  NA                4 Base               4 Base\n",
       "   pa_required global_days comments effective_date\n",
       "1:          NA         000        N     2013-01-01\n",
       "2:          NA         000        N     2013-01-01\n",
       "3:          NA         000        N     2013-01-01\n",
       "4:          NA         000        N     2013-01-01\n",
       "5:          NA         000        N     2013-01-01\n",
       "6:          NA         000        N     2013-01-01"
      ]
     },
     "execution_count": 5,
     "metadata": {},
     "output_type": "execute_result"
    },
    {
     "data": {
      "text/html": [
       "<table>\n",
       "<thead><tr><th></th><th scope=col>code_status_indicator</th><th scope=col>code</th><th scope=col>mod</th><th scope=col>nfs_maximum_allowable</th><th scope=col>fs_maximum_allowable</th><th scope=col>pa_required</th><th scope=col>global_days</th><th scope=col>comments</th><th scope=col>effective_date</th></tr></thead>\n",
       "<tbody>\n",
       "\t<tr><th scope=row>1</th><td>NA</td><td>V2631</td><td>NA</td><td>342.42</td><td>342.42</td><td>NA</td><td>000</td><td>N</td><td>2011-07-01</td></tr>\n",
       "\t<tr><th scope=row>2</th><td>NA</td><td>V2632</td><td>NA</td><td>342.42</td><td>342.42</td><td>NA</td><td>000</td><td>N</td><td>2011-07-01</td></tr>\n",
       "\t<tr><th scope=row>3</th><td>NA</td><td>V2785</td><td>NA</td><td>#</td><td>#</td><td>NA</td><td>000</td><td>N</td><td>2011-07-01</td></tr>\n",
       "\t<tr><th scope=row>4</th><td>NA</td><td>V2787</td><td>NA</td><td>#</td><td>#</td><td>NA</td><td>000</td><td>N</td><td>2011-07-01</td></tr>\n",
       "\t<tr><th scope=row>5</th><td>NA</td><td>V2788</td><td>NA</td><td>#</td><td>#</td><td>NA</td><td>000</td><td>N</td><td>2011-07-01</td></tr>\n",
       "\t<tr><th scope=row>6</th><td>NA</td><td>V2799</td><td>NA</td><td>#</td><td>#</td><td>NA</td><td>000</td><td>N</td><td>2011-07-01</td></tr>\n",
       "</tbody>\n",
       "</table>\n"
      ],
      "text/latex": [
       "\\begin{tabular}{r|lllllllll}\n",
       "  & code_status_indicator & code & mod & nfs_maximum_allowable & fs_maximum_allowable & pa_required & global_days & comments & effective_date\\\\\n",
       "\\hline\n",
       "\t1 & NA & V2631 & NA & 342.42 & 342.42 & NA & 000 & N & 2011-07-01\\\\\n",
       "\t2 & NA & V2632 & NA & 342.42 & 342.42 & NA & 000 & N & 2011-07-01\\\\\n",
       "\t3 & NA & V2785 & NA & # & # & NA & 000 & N & 2011-07-01\\\\\n",
       "\t4 & NA & V2787 & NA & # & # & NA & 000 & N & 2011-07-01\\\\\n",
       "\t5 & NA & V2788 & NA & # & # & NA & 000 & N & 2011-07-01\\\\\n",
       "\t6 & NA & V2799 & NA & # & # & NA & 000 & N & 2011-07-01\\\\\n",
       "\\end{tabular}\n"
      ],
      "text/plain": [
       "   code_status_indicator  code mod nfs_maximum_allowable fs_maximum_allowable\n",
       "1:                    NA V2631  NA                342.42               342.42\n",
       "2:                    NA V2632  NA                342.42               342.42\n",
       "3:                    NA V2785  NA                     #                    #\n",
       "4:                    NA V2787  NA                     #                    #\n",
       "5:                    NA V2788  NA                     #                    #\n",
       "6:                    NA V2799  NA                     #                    #\n",
       "   pa_required global_days comments effective_date\n",
       "1:          NA         000        N     2011-07-01\n",
       "2:          NA         000        N     2011-07-01\n",
       "3:          NA         000        N     2011-07-01\n",
       "4:          NA         000        N     2011-07-01\n",
       "5:          NA         000        N     2011-07-01\n",
       "6:          NA         000        N     2011-07-01"
      ]
     },
     "execution_count": 5,
     "metadata": {},
     "output_type": "execute_result"
    }
   ],
   "source": [
    "head(fs)\n",
    "tail(fs)"
   ]
  }
 ],
 "metadata": {
  "kernelspec": {
   "display_name": "R",
   "language": "R",
   "name": "ir"
  },
  "language_info": {
   "codemirror_mode": "r",
   "file_extension": ".r",
   "mimetype": "text/x-r-source",
   "name": "R",
   "pygments_lexer": "r",
   "version": "3.2.2"
  }
 },
 "nbformat": 4,
 "nbformat_minor": 0
}
